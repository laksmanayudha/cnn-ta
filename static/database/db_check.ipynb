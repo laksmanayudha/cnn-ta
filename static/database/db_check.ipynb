{
 "cells": [
  {
   "cell_type": "code",
   "execution_count": 1,
   "metadata": {},
   "outputs": [
    {
     "data": {
      "text/html": [
       "<div>\n",
       "<style scoped>\n",
       "    .dataframe tbody tr th:only-of-type {\n",
       "        vertical-align: middle;\n",
       "    }\n",
       "\n",
       "    .dataframe tbody tr th {\n",
       "        vertical-align: top;\n",
       "    }\n",
       "\n",
       "    .dataframe thead th {\n",
       "        text-align: right;\n",
       "    }\n",
       "</style>\n",
       "<table border=\"1\" class=\"dataframe\">\n",
       "  <thead>\n",
       "    <tr style=\"text-align: right;\">\n",
       "      <th></th>\n",
       "      <th>Unnamed: 0</th>\n",
       "      <th>filename</th>\n",
       "      <th>text</th>\n",
       "      <th>prob</th>\n",
       "      <th>category</th>\n",
       "      <th>bola</th>\n",
       "      <th>health</th>\n",
       "      <th>lifestyle</th>\n",
       "      <th>news</th>\n",
       "      <th>otomotif</th>\n",
       "      <th>teknologi</th>\n",
       "      <th>query</th>\n",
       "    </tr>\n",
       "  </thead>\n",
       "  <tbody>\n",
       "    <tr>\n",
       "      <th>0</th>\n",
       "      <td>0</td>\n",
       "      <td>teknologi0.txt</td>\n",
       "      <td>Cara Transfer GoPay ke ShopeePay dengan Mudah ...</td>\n",
       "      <td>[2.2514751e-03 1.3502655e-04 9.3695091e-04 5.6...</td>\n",
       "      <td>teknologi</td>\n",
       "      <td>0.002251</td>\n",
       "      <td>0.000135</td>\n",
       "      <td>0.000937</td>\n",
       "      <td>0.000561</td>\n",
       "      <td>0.005249</td>\n",
       "      <td>0.990866</td>\n",
       "      <td>?category=teknologi&amp;bola=0.0022514751&amp;health=0...</td>\n",
       "    </tr>\n",
       "  </tbody>\n",
       "</table>\n",
       "</div>"
      ],
      "text/plain": [
       "   Unnamed: 0        filename  \\\n",
       "0           0  teknologi0.txt   \n",
       "\n",
       "                                                text  \\\n",
       "0  Cara Transfer GoPay ke ShopeePay dengan Mudah ...   \n",
       "\n",
       "                                                prob   category      bola  \\\n",
       "0  [2.2514751e-03 1.3502655e-04 9.3695091e-04 5.6...  teknologi  0.002251   \n",
       "\n",
       "     health  lifestyle      news  otomotif  teknologi  \\\n",
       "0  0.000135   0.000937  0.000561  0.005249   0.990866   \n",
       "\n",
       "                                               query  \n",
       "0  ?category=teknologi&bola=0.0022514751&health=0...  "
      ]
     },
     "execution_count": 1,
     "metadata": {},
     "output_type": "execute_result"
    }
   ],
   "source": [
    "import pandas as pd\n",
    "\n",
    "pd.read_csv(\"database.csv\")"
   ]
  },
  {
   "cell_type": "code",
   "execution_count": null,
   "metadata": {},
   "outputs": [],
   "source": []
  }
 ],
 "metadata": {
  "kernelspec": {
   "display_name": "Python 3",
   "language": "python",
   "name": "python3"
  },
  "language_info": {
   "codemirror_mode": {
    "name": "ipython",
    "version": 3
   },
   "file_extension": ".py",
   "mimetype": "text/x-python",
   "name": "python",
   "nbconvert_exporter": "python",
   "pygments_lexer": "ipython3",
   "version": "3.8.4"
  }
 },
 "nbformat": 4,
 "nbformat_minor": 4
}
